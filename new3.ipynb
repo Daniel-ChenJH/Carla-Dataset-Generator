{
 "cells": [
  {
   "cell_type": "code",
   "execution_count": 2,
   "metadata": {},
   "outputs": [
    {
     "name": "stdout",
     "output_type": "stream",
     "text": [
      "['E:\\\\CARLA\\\\WindowsNoEditor\\\\scenario_runner/srunner/scenarios\\\\actor_flow.py', 'E:\\\\CARLA\\\\WindowsNoEditor\\\\scenario_runner/srunner/scenarios\\\\background_activity.py', 'E:\\\\CARLA\\\\WindowsNoEditor\\\\scenario_runner/srunner/scenarios\\\\background_activity_parametrizer.py', 'E:\\\\CARLA\\\\WindowsNoEditor\\\\scenario_runner/srunner/scenarios\\\\basic_scenario.py', 'E:\\\\CARLA\\\\WindowsNoEditor\\\\scenario_runner/srunner/scenarios\\\\blocked_intersection.py', 'E:\\\\CARLA\\\\WindowsNoEditor\\\\scenario_runner/srunner/scenarios\\\\change_lane.py', 'E:\\\\CARLA\\\\WindowsNoEditor\\\\scenario_runner/srunner/scenarios\\\\construction_crash_vehicle.py', 'E:\\\\CARLA\\\\WindowsNoEditor\\\\scenario_runner/srunner/scenarios\\\\control_loss.py', 'E:\\\\CARLA\\\\WindowsNoEditor\\\\scenario_runner/srunner/scenarios\\\\cross_bicycle_flow.py', 'E:\\\\CARLA\\\\WindowsNoEditor\\\\scenario_runner/srunner/scenarios\\\\cut_in.py', 'E:\\\\CARLA\\\\WindowsNoEditor\\\\scenario_runner/srunner/scenarios\\\\cut_in_with_static_vehicle.py', 'E:\\\\CARLA\\\\WindowsNoEditor\\\\scenario_runner/srunner/scenarios\\\\follow_leading_vehicle.py', 'E:\\\\CARLA\\\\WindowsNoEditor\\\\scenario_runner/srunner/scenarios\\\\freeride.py', 'E:\\\\CARLA\\\\WindowsNoEditor\\\\scenario_runner/srunner/scenarios\\\\green_traffic_light.py', 'E:\\\\CARLA\\\\WindowsNoEditor\\\\scenario_runner/srunner/scenarios\\\\hard_break.py', 'E:\\\\CARLA\\\\WindowsNoEditor\\\\scenario_runner/srunner/scenarios\\\\highway_cut_in.py', 'E:\\\\CARLA\\\\WindowsNoEditor\\\\scenario_runner/srunner/scenarios\\\\invading_turn.py', 'E:\\\\CARLA\\\\WindowsNoEditor\\\\scenario_runner/srunner/scenarios\\\\maneuver_opposite_direction.py', 'E:\\\\CARLA\\\\WindowsNoEditor\\\\scenario_runner/srunner/scenarios\\\\no_signal_junction_crossing.py', 'E:\\\\CARLA\\\\WindowsNoEditor\\\\scenario_runner/srunner/scenarios\\\\object_crash_intersection.py', 'E:\\\\CARLA\\\\WindowsNoEditor\\\\scenario_runner/srunner/scenarios\\\\object_crash_vehicle.py', 'E:\\\\CARLA\\\\WindowsNoEditor\\\\scenario_runner/srunner/scenarios\\\\open_scenario.py', 'E:\\\\CARLA\\\\WindowsNoEditor\\\\scenario_runner/srunner/scenarios\\\\opposite_vehicle_taking_priority.py', 'E:\\\\CARLA\\\\WindowsNoEditor\\\\scenario_runner/srunner/scenarios\\\\other_leading_vehicle.py', 'E:\\\\CARLA\\\\WindowsNoEditor\\\\scenario_runner/srunner/scenarios\\\\parking_cut_in.py', 'E:\\\\CARLA\\\\WindowsNoEditor\\\\scenario_runner/srunner/scenarios\\\\parking_exit.py', 'E:\\\\CARLA\\\\WindowsNoEditor\\\\scenario_runner/srunner/scenarios\\\\pedestrian_crossing.py', 'E:\\\\CARLA\\\\WindowsNoEditor\\\\scenario_runner/srunner/scenarios\\\\route_obstacles.py', 'E:\\\\CARLA\\\\WindowsNoEditor\\\\scenario_runner/srunner/scenarios\\\\route_scenario.py', 'E:\\\\CARLA\\\\WindowsNoEditor\\\\scenario_runner/srunner/scenarios\\\\signalized_junction_left_turn.py', 'E:\\\\CARLA\\\\WindowsNoEditor\\\\scenario_runner/srunner/scenarios\\\\signalized_junction_right_turn.py', 'E:\\\\CARLA\\\\WindowsNoEditor\\\\scenario_runner/srunner/scenarios\\\\vehicle_opens_door.py', 'E:\\\\CARLA\\\\WindowsNoEditor\\\\scenario_runner/srunner/scenarios\\\\yield_to_emergency_vehicle.py', 'E:\\\\CARLA\\\\WindowsNoEditor\\\\scenario_runner/srunner/scenarios\\\\__init__.py']\n"
     ]
    }
   ],
   "source": [
    "import os\n",
    "import glob\n",
    "\n",
    "# 使用os.path.normpath确保路径中的分隔符正确\n",
    "base_path = os.path.normpath(os.getenv('SCENARIO_RUNNER_ROOT', \".\"))\n",
    "scenarios_list = glob.glob(f\"{base_path}/srunner/scenarios/*.py\")\n",
    "print(scenarios_list)"
   ]
  }
 ],
 "metadata": {
  "kernelspec": {
   "display_name": "carla",
   "language": "python",
   "name": "python3"
  },
  "language_info": {
   "codemirror_mode": {
    "name": "ipython",
    "version": 3
   },
   "file_extension": ".py",
   "mimetype": "text/x-python",
   "name": "python",
   "nbconvert_exporter": "python",
   "pygments_lexer": "ipython3",
   "version": "3.7.0"
  }
 },
 "nbformat": 4,
 "nbformat_minor": 2
}
