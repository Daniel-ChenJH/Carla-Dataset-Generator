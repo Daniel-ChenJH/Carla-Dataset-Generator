{
 "cells": [
  {
   "cell_type": "code",
   "execution_count": null,
   "metadata": {},
   "outputs": [
    {
     "ename": "",
     "evalue": "",
     "output_type": "error",
     "traceback": [
      "\u001b[1;31m运行具有“carla_lb20”的单元格需要ipykernel包。\n",
      "\u001b[1;31m运行以下命令，将 \"ipykernel\" 安装到 Python 环境中。\n",
      "\u001b[1;31m命令: \"conda install -n carla_lb20 ipykernel --update-deps --force-reinstall\""
     ]
    }
   ],
   "source": [
    "import json\n",
    "import numpy as np\n",
    "\n",
    "f=json.load('/home/baidu/Downloads/CARLA_Leaderboard_2.0/CARLA_Leaderboard_20/leaderboard/record_data/runs2/ori_data.json','r',encoding='utf-8')\n",
    "for item in f:\n",
    "    if f['timestamp']==500:\n",
    "        print(np.array(f['data']).shape)"
   ]
  },
  {
   "cell_type": "code",
   "execution_count": null,
   "metadata": {},
   "outputs": [],
   "source": []
  }
 ],
 "metadata": {
  "kernelspec": {
   "display_name": "carla_lb20",
   "language": "python",
   "name": "python3"
  },
  "language_info": {
   "name": "python",
   "version": "3.7.16"
  }
 },
 "nbformat": 4,
 "nbformat_minor": 2
}
